{
  "nbformat": 4,
  "nbformat_minor": 0,
  "metadata": {
    "colab": {
      "name": "Demo-download.ipynb",
      "version": "0.3.2",
      "provenance": [],
      "include_colab_link": true
    },
    "kernelspec": {
      "name": "python3",
      "display_name": "Python 3"
    }
  },
  "cells": [
    {
      "cell_type": "markdown",
      "metadata": {
        "id": "view-in-github",
        "colab_type": "text"
      },
      "source": [
        "[View in Colaboratory](https://colab.research.google.com/github/gpicron/ia_tools/blob/master/rapports/Defi_2/Demo_download_from_supervisely.ipynb)"
      ]
    },
    {
      "metadata": {
        "id": "BWAIu-0zLm_V",
        "colab_type": "code",
        "colab": {
          "base_uri": "https://localhost:8080/",
          "height": 1176
        },
        "outputId": "43558002-3abf-44e5-d213-375254d6012a"
      },
      "cell_type": "code",
      "source": [
        "!pip install git+https://github.com/gpicron/ia_tools.git\n",
        "  "
      ],
      "execution_count": 1,
      "outputs": [
        {
          "output_type": "stream",
          "text": [
            "Collecting git+https://github.com/gpicron/ia_tools.git\n",
            "  Cloning https://github.com/gpicron/ia_tools.git to /tmp/pip-req-build-tvz5rght\n",
            "Collecting gputil (from ia-tools==0.1.0)\n",
            "  Downloading https://files.pythonhosted.org/packages/45/99/837428d26b47ebd6b66d6e1b180e98ec4a557767a93a81a02ea9d6242611/GPUtil-1.3.0.tar.gz\n",
            "Requirement already satisfied: psutil in /usr/local/lib/python3.6/dist-packages (from ia-tools==0.1.0) (5.4.7)\n",
            "Collecting humanize (from ia-tools==0.1.0)\n",
            "  Downloading https://files.pythonhosted.org/packages/8c/e0/e512e4ac6d091fc990bbe13f9e0378f34cf6eecd1c6c268c9e598dcf5bb9/humanize-0.5.1.tar.gz\n",
            "Requirement already satisfied: tensorflow in /usr/local/lib/python3.6/dist-packages (from ia-tools==0.1.0) (1.11.0)\n",
            "Requirement already satisfied: keras in /usr/local/lib/python3.6/dist-packages (from ia-tools==0.1.0) (2.1.6)\n",
            "Requirement already satisfied: pandas in /usr/local/lib/python3.6/dist-packages (from ia-tools==0.1.0) (0.22.0)\n",
            "Requirement already satisfied: IPython in /usr/local/lib/python3.6/dist-packages (from ia-tools==0.1.0) (5.5.0)\n",
            "Collecting opencv-contrib-python (from ia-tools==0.1.0)\n",
            "\u001b[?25l  Downloading https://files.pythonhosted.org/packages/f8/b0/89f8abccea0810b43d25033d6a02dbe81494cd0013a61ce588c0c0d90dd1/opencv_contrib_python-3.4.3.18-cp36-cp36m-manylinux1_x86_64.whl (30.6MB)\n",
            "\u001b[K    100% |████████████████████████████████| 30.6MB 888kB/s \n",
            "\u001b[?25hCollecting shapely (from ia-tools==0.1.0)\n",
            "\u001b[?25l  Downloading https://files.pythonhosted.org/packages/38/b6/b53f19062afd49bb5abd049aeed36f13bf8d57ef8f3fa07a5203531a0252/Shapely-1.6.4.post2-cp36-cp36m-manylinux1_x86_64.whl (1.5MB)\n",
            "\u001b[K    100% |████████████████████████████████| 1.5MB 9.3MB/s \n",
            "\u001b[?25hCollecting python-json-logger (from ia-tools==0.1.0)\n",
            "  Downloading https://files.pythonhosted.org/packages/3a/ed/2ba5a2dfce45fa67e0588dd6457b59ffdef7f1fdcd2c1152e085e3c9a726/python_json_logger-0.1.9-py2.py3-none-any.whl\n",
            "Requirement already satisfied: scikit-image in /usr/local/lib/python3.6/dist-packages (from ia-tools==0.1.0) (0.13.1)\n",
            "Requirement already satisfied: numpy in /usr/local/lib/python3.6/dist-packages (from gputil->ia-tools==0.1.0) (1.14.6)\n",
            "Requirement already satisfied: wheel>=0.26 in /usr/local/lib/python3.6/dist-packages (from tensorflow->ia-tools==0.1.0) (0.32.1)\n",
            "Requirement already satisfied: gast>=0.2.0 in /usr/local/lib/python3.6/dist-packages (from tensorflow->ia-tools==0.1.0) (0.2.0)\n",
            "Requirement already satisfied: keras-applications>=1.0.5 in /usr/local/lib/python3.6/dist-packages (from tensorflow->ia-tools==0.1.0) (1.0.6)\n",
            "Requirement already satisfied: astor>=0.6.0 in /usr/local/lib/python3.6/dist-packages (from tensorflow->ia-tools==0.1.0) (0.7.1)\n",
            "Requirement already satisfied: six>=1.10.0 in /usr/local/lib/python3.6/dist-packages (from tensorflow->ia-tools==0.1.0) (1.11.0)\n",
            "Requirement already satisfied: protobuf>=3.6.0 in /usr/local/lib/python3.6/dist-packages (from tensorflow->ia-tools==0.1.0) (3.6.1)\n",
            "Requirement already satisfied: setuptools<=39.1.0 in /usr/local/lib/python3.6/dist-packages (from tensorflow->ia-tools==0.1.0) (39.1.0)\n",
            "Requirement already satisfied: termcolor>=1.1.0 in /usr/local/lib/python3.6/dist-packages (from tensorflow->ia-tools==0.1.0) (1.1.0)\n",
            "Requirement already satisfied: absl-py>=0.1.6 in /usr/local/lib/python3.6/dist-packages (from tensorflow->ia-tools==0.1.0) (0.5.0)\n",
            "Requirement already satisfied: keras-preprocessing>=1.0.3 in /usr/local/lib/python3.6/dist-packages (from tensorflow->ia-tools==0.1.0) (1.0.5)\n",
            "Requirement already satisfied: grpcio>=1.8.6 in /usr/local/lib/python3.6/dist-packages (from tensorflow->ia-tools==0.1.0) (1.15.0)\n",
            "Requirement already satisfied: tensorboard<1.12.0,>=1.11.0 in /usr/local/lib/python3.6/dist-packages (from tensorflow->ia-tools==0.1.0) (1.11.0)\n",
            "Requirement already satisfied: pyyaml in /usr/local/lib/python3.6/dist-packages (from keras->ia-tools==0.1.0) (3.13)\n",
            "Requirement already satisfied: h5py in /usr/local/lib/python3.6/dist-packages (from keras->ia-tools==0.1.0) (2.8.0)\n",
            "Requirement already satisfied: scipy>=0.14 in /usr/local/lib/python3.6/dist-packages (from keras->ia-tools==0.1.0) (0.19.1)\n",
            "Requirement already satisfied: python-dateutil>=2 in /usr/local/lib/python3.6/dist-packages (from pandas->ia-tools==0.1.0) (2.5.3)\n",
            "Requirement already satisfied: pytz>=2011k in /usr/local/lib/python3.6/dist-packages (from pandas->ia-tools==0.1.0) (2018.5)\n",
            "Requirement already satisfied: pygments in /usr/local/lib/python3.6/dist-packages (from IPython->ia-tools==0.1.0) (2.1.3)\n",
            "Requirement already satisfied: simplegeneric>0.8 in /usr/local/lib/python3.6/dist-packages (from IPython->ia-tools==0.1.0) (0.8.1)\n",
            "Requirement already satisfied: pexpect; sys_platform != \"win32\" in /usr/local/lib/python3.6/dist-packages (from IPython->ia-tools==0.1.0) (4.6.0)\n",
            "Requirement already satisfied: decorator in /usr/local/lib/python3.6/dist-packages (from IPython->ia-tools==0.1.0) (4.3.0)\n",
            "Requirement already satisfied: pickleshare in /usr/local/lib/python3.6/dist-packages (from IPython->ia-tools==0.1.0) (0.7.5)\n",
            "Requirement already satisfied: prompt-toolkit<2.0.0,>=1.0.4 in /usr/local/lib/python3.6/dist-packages (from IPython->ia-tools==0.1.0) (1.0.15)\n",
            "Requirement already satisfied: traitlets>=4.2 in /usr/local/lib/python3.6/dist-packages (from IPython->ia-tools==0.1.0) (4.3.2)\n",
            "Requirement already satisfied: networkx>=1.8 in /usr/local/lib/python3.6/dist-packages (from scikit-image->ia-tools==0.1.0) (2.2)\n",
            "Requirement already satisfied: PyWavelets>=0.4.0 in /usr/local/lib/python3.6/dist-packages (from scikit-image->ia-tools==0.1.0) (1.0.1)\n",
            "Requirement already satisfied: matplotlib>=1.3.1 in /usr/local/lib/python3.6/dist-packages (from scikit-image->ia-tools==0.1.0) (2.1.2)\n",
            "Requirement already satisfied: pillow>=2.1.0 in /usr/local/lib/python3.6/dist-packages (from scikit-image->ia-tools==0.1.0) (4.0.0)\n",
            "Requirement already satisfied: markdown>=2.6.8 in /usr/local/lib/python3.6/dist-packages (from tensorboard<1.12.0,>=1.11.0->tensorflow->ia-tools==0.1.0) (3.0.1)\n",
            "Requirement already satisfied: werkzeug>=0.11.10 in /usr/local/lib/python3.6/dist-packages (from tensorboard<1.12.0,>=1.11.0->tensorflow->ia-tools==0.1.0) (0.14.1)\n",
            "Requirement already satisfied: ptyprocess>=0.5 in /usr/local/lib/python3.6/dist-packages (from pexpect; sys_platform != \"win32\"->IPython->ia-tools==0.1.0) (0.6.0)\n",
            "Requirement already satisfied: wcwidth in /usr/local/lib/python3.6/dist-packages (from prompt-toolkit<2.0.0,>=1.0.4->IPython->ia-tools==0.1.0) (0.1.7)\n",
            "Requirement already satisfied: ipython-genutils in /usr/local/lib/python3.6/dist-packages (from traitlets>=4.2->IPython->ia-tools==0.1.0) (0.2.0)\n",
            "Requirement already satisfied: pyparsing!=2.0.4,!=2.1.2,!=2.1.6,>=2.0.1 in /usr/local/lib/python3.6/dist-packages (from matplotlib>=1.3.1->scikit-image->ia-tools==0.1.0) (2.2.2)\n",
            "Requirement already satisfied: cycler>=0.10 in /usr/local/lib/python3.6/dist-packages (from matplotlib>=1.3.1->scikit-image->ia-tools==0.1.0) (0.10.0)\n",
            "Requirement already satisfied: olefile in /usr/local/lib/python3.6/dist-packages (from pillow>=2.1.0->scikit-image->ia-tools==0.1.0) (0.46)\n",
            "Building wheels for collected packages: ia-tools, gputil, humanize\n",
            "  Running setup.py bdist_wheel for ia-tools ... \u001b[?25l-\b \bdone\n",
            "\u001b[?25h  Stored in directory: /tmp/pip-ephem-wheel-cache-h1flree4/wheels/bf/4b/28/2838a7e6032d4360a5243881838d60ad2c0f2a89b661c91971\n",
            "  Running setup.py bdist_wheel for gputil ... \u001b[?25l-\b \bdone\n",
            "\u001b[?25h  Stored in directory: /root/.cache/pip/wheels/17/0f/04/b79c006972335e35472c0b835ed52bfc0815258d409f560108\n",
            "  Running setup.py bdist_wheel for humanize ... \u001b[?25l-\b \bdone\n",
            "\u001b[?25h  Stored in directory: /root/.cache/pip/wheels/69/86/6c/f8b8593bc273ec4b0c653d3827f7482bb2001a2781a73b7f44\n",
            "Successfully built ia-tools gputil humanize\n",
            "Installing collected packages: gputil, humanize, opencv-contrib-python, shapely, python-json-logger, ia-tools\n",
            "Successfully installed gputil-1.3.0 humanize-0.5.1 ia-tools-0.1.0 opencv-contrib-python-3.4.3.18 python-json-logger-0.1.9 shapely-1.6.4.post2\n"
          ],
          "name": "stdout"
        }
      ]
    },
    {
      "metadata": {
        "id": "a_ku9z8bXp1d",
        "colab_type": "text"
      },
      "cell_type": "markdown",
      "source": [
        "L'url ci-dessous correspond au résultat du DTL \"export-at-yolo-size\" dans Supervisely"
      ]
    },
    {
      "metadata": {
        "id": "JVeK0OUMTHxS",
        "colab_type": "code",
        "colab": {
          "base_uri": "https://localhost:8080/",
          "height": 224
        },
        "outputId": "81294589-c71d-460e-c8b0-3f4895d9e943"
      },
      "cell_type": "code",
      "source": [
        "!wget -O defi2-images.tar https://app.supervise.ly/h5un6l2bnaz1vj8a9qgms4-public/tasks/archives/C/s/PX/R9XLMZin9x7931CN5peOAKJBx5mW0FRgxWHOuommVDVkke1M7AY80gTCopAsobMS96lLQATEqoymfU2p2yyOKxAbigv3Qi2EqnKE87eQhcUsV0VYV4ACNMNHbXYm.tar"
      ],
      "execution_count": 2,
      "outputs": [
        {
          "output_type": "stream",
          "text": [
            "--2018-10-15 10:59:48--  https://app.supervise.ly/h5un6l2bnaz1vj8a9qgms4-public/tasks/archives/C/s/PX/R9XLMZin9x7931CN5peOAKJBx5mW0FRgxWHOuommVDVkke1M7AY80gTCopAsobMS96lLQATEqoymfU2p2yyOKxAbigv3Qi2EqnKE87eQhcUsV0VYV4ACNMNHbXYm.tar\n",
            "Resolving app.supervise.ly (app.supervise.ly)... 95.211.198.116\n",
            "Connecting to app.supervise.ly (app.supervise.ly)|95.211.198.116|:443... connected.\n",
            "HTTP request sent, awaiting response... 200 OK\n",
            "Length: 256000 (250K) [application/x-tar]\n",
            "Saving to: ‘defi2-images.tar’\n",
            "\n",
            "defi2-images.tar    100%[===================>] 250.00K   440KB/s    in 0.6s    \n",
            "\n",
            "2018-10-15 10:59:50 (440 KB/s) - ‘defi2-images.tar’ saved [256000/256000]\n",
            "\n"
          ],
          "name": "stdout"
        }
      ]
    },
    {
      "metadata": {
        "id": "_6_fk97aWPlF",
        "colab_type": "code",
        "colab": {
          "base_uri": "https://localhost:8080/",
          "height": 34
        },
        "outputId": "53bec1e4-defd-4c7b-d124-a067d8efe9b8"
      },
      "cell_type": "code",
      "source": [
        "!mkdir supervisely_project/\n",
        "!tar -xf defi2-images.tar -C supervisely_project/"
      ],
      "execution_count": 3,
      "outputs": [
        {
          "output_type": "stream",
          "text": [
            "tar: Removing leading `/' from member names\n"
          ],
          "name": "stdout"
        }
      ]
    },
    {
      "metadata": {
        "id": "Rj8kZpK4WXmY",
        "colab_type": "code",
        "colab": {
          "base_uri": "https://localhost:8080/",
          "height": 34
        },
        "outputId": "6a0bdb73-86e9-45b4-c6bb-019eb1d1a127"
      },
      "cell_type": "code",
      "source": [
        "ls supervisely_project"
      ],
      "execution_count": 4,
      "outputs": [
        {
          "output_type": "stream",
          "text": [
            "\u001b[0m\u001b[01;34mDefi2__demo\u001b[0m/  meta.json\n"
          ],
          "name": "stdout"
        }
      ]
    },
    {
      "metadata": {
        "id": "Y9y57U5SWtc5",
        "colab_type": "code",
        "colab": {}
      },
      "cell_type": "code",
      "source": [
        "!mkdir yolo_data"
      ],
      "execution_count": 0,
      "outputs": []
    },
    {
      "metadata": {
        "id": "kk7MOmNdXLNl",
        "colab_type": "code",
        "colab": {
          "base_uri": "https://localhost:8080/",
          "height": 68
        },
        "outputId": "ff54e189-4b55-4038-af03-fd531ebf10ba"
      },
      "cell_type": "code",
      "source": [
        "import defia_core\n",
        "\n",
        "defia_core.convert_supervisely_to_yolo('supervisely_project', 'yolo_data')"
      ],
      "execution_count": 6,
      "outputs": [
        {
          "output_type": "stream",
          "text": [
            "Output directory: /content/yolo_data \n",
            "Input project meta: 1 rectangle class(es). ['BunchOfKeys']\n",
            "Processing dataset Defi2__demo...\n"
          ],
          "name": "stdout"
        }
      ]
    },
    {
      "metadata": {
        "id": "N6ubCt5_XdZN",
        "colab_type": "code",
        "colab": {
          "base_uri": "https://localhost:8080/",
          "height": 51
        },
        "outputId": "731d131b-5225-4c72-a97c-1a730054416d"
      },
      "cell_type": "code",
      "source": [
        "!ls yolo_data"
      ],
      "execution_count": 7,
      "outputs": [
        {
          "output_type": "stream",
          "text": [
            "Defi2__demo__IMG_0058.jpg  Defi2__demo__IMG_0059.jpg  Defi2__demo__IMG_0060.jpg\n",
            "Defi2__demo__IMG_0058.txt  Defi2__demo__IMG_0059.txt  Defi2__demo__IMG_0060.txt\n"
          ],
          "name": "stdout"
        }
      ]
    }
  ]
}